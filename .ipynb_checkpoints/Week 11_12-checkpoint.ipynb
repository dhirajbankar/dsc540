{
 "cells": [
  {
   "cell_type": "markdown",
   "metadata": {},
   "source": [
    "### Task 1: (Connect to the supplied petsDB, and write a function to check if the connection is done)"
   ]
  },
  {
   "cell_type": "code",
   "execution_count": 2,
   "metadata": {},
   "outputs": [],
   "source": [
    "# Import the sqlite3 library. This will help in query to db and do a SQL operations very easily.\n",
    "import sqlite3"
   ]
  },
  {
   "cell_type": "code",
   "execution_count": 3,
   "metadata": {},
   "outputs": [],
   "source": [
    "# Make a sqlite connection to petsdb. This is file which stores the person information\n",
    "conn = sqlite3.connect(\"petsdb\")"
   ]
  },
  {
   "cell_type": "code",
   "execution_count": 15,
   "metadata": {},
   "outputs": [],
   "source": [
    "# This function makes a connection and send the connection status back\n",
    "def is_opened(conn):\n",
    "    try:\n",
    "        conn.execute(\"SELECT * FROM persons LIMIT 1\")\n",
    "        return True\n",
    "    except sqlite3.ProgrammingError as e:\n",
    "        print(\"Connection closed {}\".format(e))\n",
    "        return False"
   ]
  },
  {
   "cell_type": "code",
   "execution_count": 16,
   "metadata": {},
   "outputs": [
    {
     "name": "stdout",
     "output_type": "stream",
     "text": [
      "True\n"
     ]
    }
   ],
   "source": [
    "# Print the connection status\n",
    "print(is_opened(conn))"
   ]
  },
  {
   "cell_type": "code",
   "execution_count": 17,
   "metadata": {},
   "outputs": [],
   "source": [
    "# Close the connection using conn.close()\n",
    "conn.close()"
   ]
  },
  {
   "cell_type": "code",
   "execution_count": 18,
   "metadata": {},
   "outputs": [
    {
     "name": "stdout",
     "output_type": "stream",
     "text": [
      "Connection closed Cannot operate on a closed database.\n",
      "False\n"
     ]
    }
   ],
   "source": [
    "print(is_opened(conn))"
   ]
  },
  {
   "cell_type": "markdown",
   "metadata": {},
   "source": [
    "### Task 2: (Find  the different age groups in the persons database)"
   ]
  },
  {
   "cell_type": "code",
   "execution_count": 19,
   "metadata": {},
   "outputs": [],
   "source": [
    "conn = sqlite3.connect(\"petsdb\")"
   ]
  },
  {
   "cell_type": "code",
   "execution_count": 20,
   "metadata": {},
   "outputs": [],
   "source": [
    "c = conn.cursor()"
   ]
  },
  {
   "cell_type": "code",
   "execution_count": 22,
   "metadata": {},
   "outputs": [
    {
     "data": {
      "text/plain": [
       "(('id', None, None, None, None, None, None),\n",
       " ('first_name', None, None, None, None, None, None),\n",
       " ('last_name', None, None, None, None, None, None),\n",
       " ('age', None, None, None, None, None, None),\n",
       " ('city', None, None, None, None, None, None),\n",
       " ('zip_code', None, None, None, None, None, None))"
      ]
     },
     "execution_count": 22,
     "metadata": {},
     "output_type": "execute_result"
    }
   ],
   "source": [
    "# Check the colomns names from person table\n",
    "c.description\n"
   ]
  },
  {
   "cell_type": "code",
   "execution_count": 29,
   "metadata": {},
   "outputs": [
    {
     "name": "stdout",
     "output_type": "stream",
     "text": [
      "('persons',)\n",
      "('pets',)\n"
     ]
    }
   ],
   "source": [
    "# Find all tables in database\n",
    "rows =  c.execute(\"SELECT name FROM sqlite_master WHERE type='table';\")\n",
    "for row in rows:\n",
    "    print(row)"
   ]
  },
  {
   "cell_type": "code",
   "execution_count": 32,
   "metadata": {},
   "outputs": [
    {
     "name": "stdout",
     "output_type": "stream",
     "text": [
      "(1, 'Erica', None, 22, 'south port', 2345678)\n",
      "(2, 'Jordi', None, 73, 'east port', 123456)\n",
      "(3, 'Chasity', None, 70, 'new port', 76856785)\n",
      "(4, 'Gregg', None, 31, 'new port', 76856785)\n"
     ]
    }
   ],
   "source": [
    "# Check what type of data is there in table\n",
    "rows =  c.execute(\"SELECT * FROM persons limit 4\")\n",
    "for row in rows:\n",
    "    print(row)"
   ]
  },
  {
   "cell_type": "code",
   "execution_count": 33,
   "metadata": {},
   "outputs": [
    {
     "data": {
      "text/plain": [
       "(('id', None, None, None, None, None, None),\n",
       " ('first_name', None, None, None, None, None, None),\n",
       " ('last_name', None, None, None, None, None, None),\n",
       " ('age', None, None, None, None, None, None),\n",
       " ('city', None, None, None, None, None, None),\n",
       " ('zip_code', None, None, None, None, None, None))"
      ]
     },
     "execution_count": 33,
     "metadata": {},
     "output_type": "execute_result"
    }
   ],
   "source": [
    "rows.description"
   ]
  },
  {
   "cell_type": "code",
   "execution_count": 34,
   "metadata": {},
   "outputs": [
    {
     "name": "stdout",
     "output_type": "stream",
     "text": [
      "We have 2 people aged 5\n",
      "We have 1 people aged 6\n",
      "We have 1 people aged 7\n",
      "We have 3 people aged 8\n",
      "We have 1 people aged 9\n",
      "We have 2 people aged 11\n",
      "We have 3 people aged 12\n",
      "We have 1 people aged 13\n",
      "We have 4 people aged 14\n",
      "We have 2 people aged 16\n",
      "We have 2 people aged 17\n",
      "We have 3 people aged 18\n",
      "We have 1 people aged 19\n",
      "We have 3 people aged 22\n",
      "We have 2 people aged 23\n",
      "We have 3 people aged 24\n",
      "We have 2 people aged 25\n",
      "We have 1 people aged 27\n",
      "We have 1 people aged 30\n",
      "We have 3 people aged 31\n",
      "We have 1 people aged 32\n",
      "We have 1 people aged 33\n",
      "We have 2 people aged 34\n",
      "We have 3 people aged 35\n",
      "We have 3 people aged 36\n",
      "We have 1 people aged 37\n",
      "We have 2 people aged 39\n",
      "We have 1 people aged 40\n",
      "We have 1 people aged 42\n",
      "We have 2 people aged 44\n",
      "We have 2 people aged 48\n",
      "We have 1 people aged 49\n",
      "We have 1 people aged 50\n",
      "We have 2 people aged 51\n",
      "We have 2 people aged 52\n",
      "We have 2 people aged 53\n",
      "We have 2 people aged 54\n",
      "We have 1 people aged 58\n",
      "We have 1 people aged 59\n",
      "We have 1 people aged 60\n",
      "We have 1 people aged 61\n",
      "We have 2 people aged 62\n",
      "We have 1 people aged 63\n",
      "We have 2 people aged 65\n",
      "We have 2 people aged 66\n",
      "We have 1 people aged 67\n",
      "We have 3 people aged 68\n",
      "We have 1 people aged 69\n",
      "We have 1 people aged 70\n",
      "We have 4 people aged 71\n",
      "We have 1 people aged 72\n",
      "We have 5 people aged 73\n",
      "We have 3 people aged 74\n"
     ]
    }
   ],
   "source": [
    "# Group the number of peoples in person table\n",
    "for ppl, age in c.execute(\"SELECT count(*), age FROM persons GROUP BY age\"):\n",
    "    print(\"We have {} people aged {}\".format(ppl, age))"
   ]
  },
  {
   "cell_type": "markdown",
   "metadata": {},
   "source": [
    "### Task 3: Find the age group has maximum number of people?"
   ]
  },
  {
   "cell_type": "code",
   "execution_count": 35,
   "metadata": {},
   "outputs": [
    {
     "name": "stdout",
     "output_type": "stream",
     "text": [
      "Highest number of people 5 came from 73 age group\n"
     ]
    }
   ],
   "source": [
    "# Sort the count by descending which will give mas number of people in group\n",
    "for ppl, age in c.execute(\"SELECT count(*), age FROM persons GROUP BY age ORDER BY count(*) DESC\"):\n",
    "    print(\"Highest number of people {} came from {} age group\".format(ppl, age))\n",
    "    break"
   ]
  },
  {
   "cell_type": "markdown",
   "metadata": {},
   "source": [
    "### Task 4: Find people who do not have a full name"
   ]
  },
  {
   "cell_type": "code",
   "execution_count": 36,
   "metadata": {},
   "outputs": [
    {
     "name": "stdout",
     "output_type": "stream",
     "text": [
      "(60,)\n"
     ]
    }
   ],
   "source": [
    "res = c.execute(\"SELECT count(*) FROM persons WHERE last_name IS null\")\n",
    "for row in res:\n",
    "    print(row)"
   ]
  },
  {
   "cell_type": "markdown",
   "metadata": {},
   "source": [
    "### Task 5: Find out many people has more than one pet?"
   ]
  },
  {
   "cell_type": "code",
   "execution_count": 38,
   "metadata": {},
   "outputs": [
    {
     "name": "stdout",
     "output_type": "stream",
     "text": [
      "(57, 'mani', 1.0, 0)\n",
      "(80, 'tamari', None, 0)\n",
      "(25, 'raba', None, 0)\n",
      "(27, 'olga', None, 0)\n"
     ]
    }
   ],
   "source": [
    "# Check what type of data is there in table\n",
    "rows =  c.execute(\"SELECT * FROM pets limit 4\")\n",
    "for row in rows:\n",
    "    print(row)"
   ]
  },
  {
   "cell_type": "code",
   "execution_count": 39,
   "metadata": {},
   "outputs": [
    {
     "data": {
      "text/plain": [
       "(('owner_id', None, None, None, None, None, None),\n",
       " ('pet_name', None, None, None, None, None, None),\n",
       " ('pet_type', None, None, None, None, None, None),\n",
       " ('treatment_done', None, None, None, None, None, None))"
      ]
     },
     "execution_count": 39,
     "metadata": {},
     "output_type": "execute_result"
    }
   ],
   "source": [
    "rows.description"
   ]
  },
  {
   "cell_type": "code",
   "execution_count": 12,
   "metadata": {},
   "outputs": [
    {
     "name": "stdout",
     "output_type": "stream",
     "text": [
      "43 People has more than one pets\n"
     ]
    }
   ],
   "source": [
    "res = c.execute(\"SELECT count(*) FROM (SELECT count(owner_id) FROM pets GROUP BY owner_id HAVING count(owner_id) >1)\")\n",
    "for row in res:\n",
    "    print(\"{} People has more than one pets\".format(row[0]))"
   ]
  },
  {
   "cell_type": "markdown",
   "metadata": {},
   "source": [
    "### Task 6: Find how many pets have received treaments?"
   ]
  },
  {
   "cell_type": "code",
   "execution_count": 40,
   "metadata": {},
   "outputs": [
    {
     "name": "stdout",
     "output_type": "stream",
     "text": [
      "(36,)\n"
     ]
    }
   ],
   "source": [
    "res = c.execute(\"SELECT count(*) FROM pets WHERE treatment_done=1\")\n",
    "for row in res:\n",
    "    print(row)"
   ]
  },
  {
   "cell_type": "markdown",
   "metadata": {},
   "source": [
    "### Task 7: Find how many pets have received treatment that we know the type of?"
   ]
  },
  {
   "cell_type": "code",
   "execution_count": 41,
   "metadata": {},
   "outputs": [
    {
     "name": "stdout",
     "output_type": "stream",
     "text": [
      "(16,)\n"
     ]
    }
   ],
   "source": [
    "res = c.execute(\"SELECT count(*) FROM pets WHERE treatment_done=1 AND pet_type IS NOT null\")\n",
    "for row in res:\n",
    "    print(row)"
   ]
  },
  {
   "cell_type": "markdown",
   "metadata": {},
   "source": [
    "### Task 8: Find how many pets are there from the city called \"east port\""
   ]
  },
  {
   "cell_type": "code",
   "execution_count": 42,
   "metadata": {},
   "outputs": [
    {
     "name": "stdout",
     "output_type": "stream",
     "text": [
      "(49,)\n"
     ]
    }
   ],
   "source": [
    "res = c.execute(\"SELECT count(*) FROM pets JOIN persons ON pets.owner_id = persons.id WHERE persons.city='east port'\")\n",
    "for row in res:\n",
    "    print(row)"
   ]
  },
  {
   "cell_type": "markdown",
   "metadata": {},
   "source": [
    "### Task 9: Find how many pets are there from the city called \"east port\" and who received a treatment?"
   ]
  },
  {
   "cell_type": "code",
   "execution_count": 43,
   "metadata": {},
   "outputs": [
    {
     "name": "stdout",
     "output_type": "stream",
     "text": [
      "(11,)\n"
     ]
    }
   ],
   "source": [
    "res = c.execute(\"SELECT count(*) FROM pets JOIN persons ON pets.owner_id = persons.id WHERE persons.city='east port' AND pets.treatment_done=1\")\n",
    "for row in res:\n",
    "    print(row)"
   ]
  },
  {
   "cell_type": "markdown",
   "metadata": {},
   "source": [
    "### All the above task is all about the SQL concept. How you write the queries and how you can get the result back. The sqlite3 library really gives a nice hold of DML and DDL operations."
   ]
  },
  {
   "cell_type": "code",
   "execution_count": null,
   "metadata": {},
   "outputs": [],
   "source": []
  }
 ],
 "metadata": {
  "kernelspec": {
   "display_name": "Python 3",
   "language": "python",
   "name": "python3"
  },
  "language_info": {
   "codemirror_mode": {
    "name": "ipython",
    "version": 3
   },
   "file_extension": ".py",
   "mimetype": "text/x-python",
   "name": "python",
   "nbconvert_exporter": "python",
   "pygments_lexer": "ipython3",
   "version": "3.6.10"
  }
 },
 "nbformat": 4,
 "nbformat_minor": 2
}
