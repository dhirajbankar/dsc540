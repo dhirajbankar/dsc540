{
 "cells": [
  {
   "cell_type": "code",
   "execution_count": 19,
   "metadata": {},
   "outputs": [
    {
     "data": {
      "text/plain": [
       "8"
      ]
     },
     "execution_count": 19,
     "metadata": {},
     "output_type": "execute_result"
    }
   ],
   "source": [
    "import pandas as pd\n",
    "\n",
    "df = pd.read_html(\"https://www.nytimes.com/interactive/2020/us/coronavirus-us-cases.html\")\n",
    "len(df)"
   ]
  },
  {
   "cell_type": "code",
   "execution_count": 20,
   "metadata": {},
   "outputs": [
    {
     "name": "stdout",
     "output_type": "stream",
     "text": [
      "(3, 4)\n",
      "(10, 10)\n",
      "(10, 6)\n",
      "(10, 3)\n",
      "(10, 3)\n",
      "(10, 3)\n",
      "(5, 3)\n",
      "(5, 3)\n"
     ]
    }
   ],
   "source": [
    "for t in df:\n",
    "    print(t.shape)"
   ]
  },
  {
   "cell_type": "code",
   "execution_count": 21,
   "metadata": {},
   "outputs": [
    {
     "data": {
      "text/html": [
       "<div>\n",
       "<style scoped>\n",
       "    .dataframe tbody tr th:only-of-type {\n",
       "        vertical-align: middle;\n",
       "    }\n",
       "\n",
       "    .dataframe tbody tr th {\n",
       "        vertical-align: top;\n",
       "    }\n",
       "\n",
       "    .dataframe thead th {\n",
       "        text-align: right;\n",
       "    }\n",
       "</style>\n",
       "<table border=\"1\" class=\"dataframe\">\n",
       "  <thead>\n",
       "    <tr style=\"text-align: right;\">\n",
       "      <th></th>\n",
       "      <th>Unnamed: 0</th>\n",
       "      <th>Totalcases</th>\n",
       "      <th>Per 100,000</th>\n",
       "      <th>Totaldeaths</th>\n",
       "      <th>Per 100,000.1</th>\n",
       "      <th>Daily avg.in last7 days</th>\n",
       "      <th>Per 100,000.2</th>\n",
       "      <th>Daily avg.in last7 days.1</th>\n",
       "      <th>Per 100,000.3</th>\n",
       "      <th>Weekly cases per capita  Fewer \\tMore</th>\n",
       "    </tr>\n",
       "  </thead>\n",
       "  <tbody>\n",
       "    <tr>\n",
       "      <th>0</th>\n",
       "      <td>+ Arizona  MAP »</td>\n",
       "      <td>556384</td>\n",
       "      <td>7644</td>\n",
       "      <td>9061</td>\n",
       "      <td>124</td>\n",
       "      <td>8842.1</td>\n",
       "      <td>121.5</td>\n",
       "      <td>90.6</td>\n",
       "      <td>1.2</td>\n",
       "      <td>March 1  Jan. 3</td>\n",
       "    </tr>\n",
       "    <tr>\n",
       "      <th>1</th>\n",
       "      <td>+ California  MAP »</td>\n",
       "      <td>2433838</td>\n",
       "      <td>6160</td>\n",
       "      <td>26635</td>\n",
       "      <td>67</td>\n",
       "      <td>38086.4</td>\n",
       "      <td>96.4</td>\n",
       "      <td>336.0</td>\n",
       "      <td>0.9</td>\n",
       "      <td>NaN</td>\n",
       "    </tr>\n",
       "    <tr>\n",
       "      <th>2</th>\n",
       "      <td>+ Tennessee  MAP »</td>\n",
       "      <td>593363</td>\n",
       "      <td>8689</td>\n",
       "      <td>6962</td>\n",
       "      <td>102</td>\n",
       "      <td>6294.9</td>\n",
       "      <td>92.2</td>\n",
       "      <td>73.0</td>\n",
       "      <td>1.1</td>\n",
       "      <td>NaN</td>\n",
       "    </tr>\n",
       "    <tr>\n",
       "      <th>3</th>\n",
       "      <td>+ Oklahoma  MAP »</td>\n",
       "      <td>304072</td>\n",
       "      <td>7684</td>\n",
       "      <td>2547</td>\n",
       "      <td>64</td>\n",
       "      <td>3561.9</td>\n",
       "      <td>90.0</td>\n",
       "      <td>25.3</td>\n",
       "      <td>0.6</td>\n",
       "      <td>NaN</td>\n",
       "    </tr>\n",
       "    <tr>\n",
       "      <th>4</th>\n",
       "      <td>+ Arkansas  MAP »</td>\n",
       "      <td>233475</td>\n",
       "      <td>7737</td>\n",
       "      <td>3749</td>\n",
       "      <td>124</td>\n",
       "      <td>2656.9</td>\n",
       "      <td>88.0</td>\n",
       "      <td>38.1</td>\n",
       "      <td>1.3</td>\n",
       "      <td>NaN</td>\n",
       "    </tr>\n",
       "  </tbody>\n",
       "</table>\n",
       "</div>"
      ],
      "text/plain": [
       "            Unnamed: 0  Totalcases  Per 100,000  Totaldeaths  Per 100,000.1  \\\n",
       "0     + Arizona  MAP »      556384         7644         9061            124   \n",
       "1  + California  MAP »     2433838         6160        26635             67   \n",
       "2   + Tennessee  MAP »      593363         8689         6962            102   \n",
       "3    + Oklahoma  MAP »      304072         7684         2547             64   \n",
       "4    + Arkansas  MAP »      233475         7737         3749            124   \n",
       "\n",
       "   Daily avg.in last7 days  Per 100,000.2  Daily avg.in last7 days.1  \\\n",
       "0                   8842.1          121.5                       90.6   \n",
       "1                  38086.4           96.4                      336.0   \n",
       "2                   6294.9           92.2                       73.0   \n",
       "3                   3561.9           90.0                       25.3   \n",
       "4                   2656.9           88.0                       38.1   \n",
       "\n",
       "   Per 100,000.3 Weekly cases per capita  Fewer \\tMore  \n",
       "0            1.2                       March 1  Jan. 3  \n",
       "1            0.9                                   NaN  \n",
       "2            1.1                                   NaN  \n",
       "3            0.6                                   NaN  \n",
       "4            1.3                                   NaN  "
      ]
     },
     "execution_count": 21,
     "metadata": {},
     "output_type": "execute_result"
    }
   ],
   "source": [
    "df15 = df[1]\n",
    "print(df15)"
   ]
  },
  {
   "cell_type": "code",
   "execution_count": null,
   "metadata": {},
   "outputs": [],
   "source": []
  }
 ],
 "metadata": {
  "kernelspec": {
   "display_name": "Python 3",
   "language": "python",
   "name": "python3"
  },
  "language_info": {
   "codemirror_mode": {
    "name": "ipython",
    "version": 3
   },
   "file_extension": ".py",
   "mimetype": "text/x-python",
   "name": "python",
   "nbconvert_exporter": "python",
   "pygments_lexer": "ipython3",
   "version": "3.8.3"
  }
 },
 "nbformat": 4,
 "nbformat_minor": 4
}
