{
 "cells": [
  {
   "cell_type": "markdown",
   "metadata": {},
   "source": [
    "# Milestone 2\n",
    "\n",
    "### Perform at least 5 data transformation and/or cleansing steps to your flat file data. For example:\n",
    "\n",
    "#### 1) Replace Headers\n",
    "#### 2) Format data into a more readable format\n",
    "#### 3) Identify outliers and bad data\n",
    "#### 4) Find duplicates\n",
    "#### 5) Fix casing or inconsistent values\n",
    "#### 6) Conduct Fuzzy Matching"
   ]
  },
  {
   "cell_type": "code",
   "execution_count": 47,
   "metadata": {},
   "outputs": [],
   "source": [
    "# import the required libraries\n",
    "import pandas as pd\n",
    "import matplotlib as plt \n",
    "import numpy as np"
   ]
  },
  {
   "cell_type": "code",
   "execution_count": 17,
   "metadata": {},
   "outputs": [],
   "source": [
    "# Load the CSV file\n",
    "usa_covide_df = pd.read_csv ('./data/United_States_COVID-19_Cases_and_Deaths_by_State_over_Time.csv')"
   ]
  },
  {
   "cell_type": "code",
   "execution_count": 29,
   "metadata": {},
   "outputs": [
    {
     "name": "stdout",
     "output_type": "stream",
     "text": [
      "Shape of Datafram After droping NaN rows::  (21300, 15)\n"
     ]
    }
   ],
   "source": [
    "#Print the first few rows\n",
    "usa_covide_df.head()\n",
    "\n",
    "print (\"Shape of Datafram After droping NaN rows:: \",usa_covide_df.shape)"
   ]
  },
  {
   "cell_type": "markdown",
   "metadata": {},
   "source": [
    "### Replace Headers"
   ]
  },
  {
   "cell_type": "code",
   "execution_count": 30,
   "metadata": {},
   "outputs": [
    {
     "data": {
      "text/html": [
       "<div>\n",
       "<style scoped>\n",
       "    .dataframe tbody tr th:only-of-type {\n",
       "        vertical-align: middle;\n",
       "    }\n",
       "\n",
       "    .dataframe tbody tr th {\n",
       "        vertical-align: top;\n",
       "    }\n",
       "\n",
       "    .dataframe thead th {\n",
       "        text-align: right;\n",
       "    }\n",
       "</style>\n",
       "<table border=\"1\" class=\"dataframe\">\n",
       "  <thead>\n",
       "    <tr style=\"text-align: right;\">\n",
       "      <th></th>\n",
       "      <th>submission_date</th>\n",
       "      <th>state</th>\n",
       "      <th>total_cases</th>\n",
       "      <th>confirmed_cases</th>\n",
       "      <th>probable_cases</th>\n",
       "      <th>new_case</th>\n",
       "      <th>pnew_case</th>\n",
       "      <th>total_death</th>\n",
       "      <th>confirmed_death</th>\n",
       "      <th>probable_death</th>\n",
       "      <th>new_death</th>\n",
       "      <th>probable_new_death</th>\n",
       "      <th>created_at</th>\n",
       "      <th>consent_cases</th>\n",
       "      <th>consent_deaths</th>\n",
       "    </tr>\n",
       "  </thead>\n",
       "  <tbody>\n",
       "    <tr>\n",
       "      <th>0</th>\n",
       "      <td>05/04/2020</td>\n",
       "      <td>KY</td>\n",
       "      <td>5245</td>\n",
       "      <td>5245.0</td>\n",
       "      <td>0.0</td>\n",
       "      <td>115</td>\n",
       "      <td>0.0</td>\n",
       "      <td>261</td>\n",
       "      <td>261.0</td>\n",
       "      <td>0.0</td>\n",
       "      <td>8</td>\n",
       "      <td>0.0</td>\n",
       "      <td>05/05/2020 05:25:08 PM</td>\n",
       "      <td>Agree</td>\n",
       "      <td>Agree</td>\n",
       "    </tr>\n",
       "    <tr>\n",
       "      <th>1</th>\n",
       "      <td>12/08/2020</td>\n",
       "      <td>OK</td>\n",
       "      <td>205999</td>\n",
       "      <td>171497.0</td>\n",
       "      <td>34502.0</td>\n",
       "      <td>0</td>\n",
       "      <td>0.0</td>\n",
       "      <td>1752</td>\n",
       "      <td>1680.0</td>\n",
       "      <td>72.0</td>\n",
       "      <td>0</td>\n",
       "      <td>0.0</td>\n",
       "      <td>12/09/2020 02:45:40 PM</td>\n",
       "      <td>Agree</td>\n",
       "      <td>Agree</td>\n",
       "    </tr>\n",
       "    <tr>\n",
       "      <th>2</th>\n",
       "      <td>08/21/2020</td>\n",
       "      <td>MD</td>\n",
       "      <td>103523</td>\n",
       "      <td>NaN</td>\n",
       "      <td>NaN</td>\n",
       "      <td>624</td>\n",
       "      <td>0.0</td>\n",
       "      <td>3685</td>\n",
       "      <td>3546.0</td>\n",
       "      <td>139.0</td>\n",
       "      <td>11</td>\n",
       "      <td>1.0</td>\n",
       "      <td>08/22/2020 02:21:09 PM</td>\n",
       "      <td>NaN</td>\n",
       "      <td>Agree</td>\n",
       "    </tr>\n",
       "    <tr>\n",
       "      <th>3</th>\n",
       "      <td>03/05/2020</td>\n",
       "      <td>GA</td>\n",
       "      <td>2</td>\n",
       "      <td>NaN</td>\n",
       "      <td>NaN</td>\n",
       "      <td>-5</td>\n",
       "      <td>NaN</td>\n",
       "      <td>0</td>\n",
       "      <td>NaN</td>\n",
       "      <td>NaN</td>\n",
       "      <td>0</td>\n",
       "      <td>NaN</td>\n",
       "      <td>03/26/2020 04:22:39 PM</td>\n",
       "      <td>Agree</td>\n",
       "      <td>Agree</td>\n",
       "    </tr>\n",
       "    <tr>\n",
       "      <th>4</th>\n",
       "      <td>02/08/2020</td>\n",
       "      <td>WA</td>\n",
       "      <td>1</td>\n",
       "      <td>NaN</td>\n",
       "      <td>NaN</td>\n",
       "      <td>0</td>\n",
       "      <td>NaN</td>\n",
       "      <td>0</td>\n",
       "      <td>NaN</td>\n",
       "      <td>NaN</td>\n",
       "      <td>0</td>\n",
       "      <td>NaN</td>\n",
       "      <td>03/26/2020 04:22:39 PM</td>\n",
       "      <td>NaN</td>\n",
       "      <td>NaN</td>\n",
       "    </tr>\n",
       "  </tbody>\n",
       "</table>\n",
       "</div>"
      ],
      "text/plain": [
       "  submission_date state  total_cases  confirmed_cases  probable_cases  \\\n",
       "0      05/04/2020    KY         5245           5245.0             0.0   \n",
       "1      12/08/2020    OK       205999         171497.0         34502.0   \n",
       "2      08/21/2020    MD       103523              NaN             NaN   \n",
       "3      03/05/2020    GA            2              NaN             NaN   \n",
       "4      02/08/2020    WA            1              NaN             NaN   \n",
       "\n",
       "   new_case  pnew_case  total_death  confirmed_death  probable_death  \\\n",
       "0       115        0.0          261            261.0             0.0   \n",
       "1         0        0.0         1752           1680.0            72.0   \n",
       "2       624        0.0         3685           3546.0           139.0   \n",
       "3        -5        NaN            0              NaN             NaN   \n",
       "4         0        NaN            0              NaN             NaN   \n",
       "\n",
       "   new_death  probable_new_death              created_at consent_cases  \\\n",
       "0          8                 0.0  05/05/2020 05:25:08 PM         Agree   \n",
       "1          0                 0.0  12/09/2020 02:45:40 PM         Agree   \n",
       "2         11                 1.0  08/22/2020 02:21:09 PM           NaN   \n",
       "3          0                 NaN  03/26/2020 04:22:39 PM         Agree   \n",
       "4          0                 NaN  03/26/2020 04:22:39 PM           NaN   \n",
       "\n",
       "  consent_deaths  \n",
       "0          Agree  \n",
       "1          Agree  \n",
       "2          Agree  \n",
       "3          Agree  \n",
       "4            NaN  "
      ]
     },
     "execution_count": 30,
     "metadata": {},
     "output_type": "execute_result"
    }
   ],
   "source": [
    "usa_covide_df_with_updated_headers = usa_covide_df.rename(columns=\n",
    "{'submission_date': 'submission_date','state': 'state','tot_cases': 'total_cases','conf_cases': 'confirmed_cases',\n",
    "'prob_cases': 'probable_cases','new_case': 'new_case','probable_new_case': 'pnew_case','tot_death': 'total_death',\n",
    "'conf_death': 'confirmed_death','prob_death': 'probable_death','new_death': 'new_death',\n",
    "'pnew_death': 'probable_new_death','created_at': 'created_at','consent_cases': 'consent_cases',\n",
    "'consent_deaths': 'consent_deaths'\n",
    "})\n",
    "usa_covide_df_with_updated_headers.head()"
   ]
  },
  {
   "cell_type": "code",
   "execution_count": 31,
   "metadata": {},
   "outputs": [
    {
     "name": "stdout",
     "output_type": "stream",
     "text": [
      "Shape of Datafram before droping NaN rows::  (21300, 15)\n"
     ]
    }
   ],
   "source": [
    "print (\"Shape of Datafram before droping NaN rows:: \",usa_covide_df_with_updated_headers.shape)"
   ]
  },
  {
   "cell_type": "markdown",
   "metadata": {},
   "source": [
    "#### 2) Format data into a more readable format"
   ]
  },
  {
   "cell_type": "code",
   "execution_count": 32,
   "metadata": {},
   "outputs": [],
   "source": [
    "# After observation the data looks neet and redable as well as easy to read. \n",
    "#All values are in numbers formate"
   ]
  },
  {
   "cell_type": "markdown",
   "metadata": {},
   "source": [
    "#### 3) Identify outliers and bad data\n"
   ]
  },
  {
   "cell_type": "code",
   "execution_count": 33,
   "metadata": {},
   "outputs": [],
   "source": [
    "# As part of this data there are lot of NaN data in lots of rows. The data has NaN we will remove all\n",
    "# thoses rows. \n",
    "usa_covide_df_with_updated_headers = usa_covide_df_with_updated_headers.dropna(axis=0)"
   ]
  },
  {
   "cell_type": "code",
   "execution_count": 36,
   "metadata": {},
   "outputs": [
    {
     "name": "stdout",
     "output_type": "stream",
     "text": [
      "Shape of Datafram After droping NaN rows::  (7817, 15)\n"
     ]
    }
   ],
   "source": [
    "print (\"Shape of Datafram After droping NaN rows:: \",usa_covide_df_with_updated_headers.shape)"
   ]
  },
  {
   "cell_type": "code",
   "execution_count": 37,
   "metadata": {},
   "outputs": [],
   "source": [
    "# We dont find have outliners as each values has meaning and we can remove the outlineres. \n",
    "# It is timeseris formate data.\n"
   ]
  },
  {
   "cell_type": "markdown",
   "metadata": {},
   "source": [
    "#### 4) Find duplicates\n"
   ]
  },
  {
   "cell_type": "code",
   "execution_count": 38,
   "metadata": {},
   "outputs": [
    {
     "data": {
      "text/plain": [
       "0        False\n",
       "1        False\n",
       "9        False\n",
       "11       False\n",
       "14       False\n",
       "         ...  \n",
       "21267    False\n",
       "21271    False\n",
       "21278    False\n",
       "21285    False\n",
       "21295    False\n",
       "Length: 7817, dtype: bool"
      ]
     },
     "execution_count": 38,
     "metadata": {},
     "output_type": "execute_result"
    }
   ],
   "source": [
    "# From the below results there are not duplicate records.\n",
    "usa_covide_df_with_updated_headers.duplicated()"
   ]
  },
  {
   "cell_type": "markdown",
   "metadata": {},
   "source": [
    "#### 5) Create pivot table for each state and sum of new_cases and new_dates\n"
   ]
  },
  {
   "cell_type": "code",
   "execution_count": 49,
   "metadata": {},
   "outputs": [
    {
     "data": {
      "text/html": [
       "<div>\n",
       "<style scoped>\n",
       "    .dataframe tbody tr th:only-of-type {\n",
       "        vertical-align: middle;\n",
       "    }\n",
       "\n",
       "    .dataframe tbody tr th {\n",
       "        vertical-align: top;\n",
       "    }\n",
       "\n",
       "    .dataframe thead th {\n",
       "        text-align: right;\n",
       "    }\n",
       "</style>\n",
       "<table border=\"1\" class=\"dataframe\">\n",
       "  <thead>\n",
       "    <tr style=\"text-align: right;\">\n",
       "      <th></th>\n",
       "      <th>new_case</th>\n",
       "      <th>new_death</th>\n",
       "    </tr>\n",
       "    <tr>\n",
       "      <th>state</th>\n",
       "      <th></th>\n",
       "      <th></th>\n",
       "    </tr>\n",
       "  </thead>\n",
       "  <tbody>\n",
       "    <tr>\n",
       "      <th>AL</th>\n",
       "      <td>397177</td>\n",
       "      <td>5221</td>\n",
       "    </tr>\n",
       "    <tr>\n",
       "      <th>AZ</th>\n",
       "      <td>613827</td>\n",
       "      <td>9964</td>\n",
       "    </tr>\n",
       "    <tr>\n",
       "      <th>CO</th>\n",
       "      <td>352017</td>\n",
       "      <td>4813</td>\n",
       "    </tr>\n",
       "    <tr>\n",
       "      <th>CT</th>\n",
       "      <td>189573</td>\n",
       "      <td>5341</td>\n",
       "    </tr>\n",
       "    <tr>\n",
       "      <th>DE</th>\n",
       "      <td>62735</td>\n",
       "      <td>905</td>\n",
       "    </tr>\n",
       "    <tr>\n",
       "      <th>FSM</th>\n",
       "      <td>1</td>\n",
       "      <td>0</td>\n",
       "    </tr>\n",
       "    <tr>\n",
       "      <th>GA</th>\n",
       "      <td>739134</td>\n",
       "      <td>10697</td>\n",
       "    </tr>\n",
       "    <tr>\n",
       "      <th>ID</th>\n",
       "      <td>148181</td>\n",
       "      <td>1495</td>\n",
       "    </tr>\n",
       "    <tr>\n",
       "      <th>IL</th>\n",
       "      <td>999590</td>\n",
       "      <td>18034</td>\n",
       "    </tr>\n",
       "    <tr>\n",
       "      <th>KY</th>\n",
       "      <td>300828</td>\n",
       "      <td>2751</td>\n",
       "    </tr>\n",
       "    <tr>\n",
       "      <th>MA</th>\n",
       "      <td>386853</td>\n",
       "      <td>11523</td>\n",
       "    </tr>\n",
       "    <tr>\n",
       "      <th>ME</th>\n",
       "      <td>28764</td>\n",
       "      <td>406</td>\n",
       "    </tr>\n",
       "    <tr>\n",
       "      <th>MI</th>\n",
       "      <td>531836</td>\n",
       "      <td>11838</td>\n",
       "    </tr>\n",
       "    <tr>\n",
       "      <th>MP</th>\n",
       "      <td>111</td>\n",
       "      <td>2</td>\n",
       "    </tr>\n",
       "    <tr>\n",
       "      <th>MS</th>\n",
       "      <td>236335</td>\n",
       "      <td>5034</td>\n",
       "    </tr>\n",
       "    <tr>\n",
       "      <th>MT</th>\n",
       "      <td>85898</td>\n",
       "      <td>1046</td>\n",
       "    </tr>\n",
       "    <tr>\n",
       "      <th>NC</th>\n",
       "      <td>623188</td>\n",
       "      <td>7567</td>\n",
       "    </tr>\n",
       "    <tr>\n",
       "      <th>NJ</th>\n",
       "      <td>68489</td>\n",
       "      <td>2616</td>\n",
       "    </tr>\n",
       "    <tr>\n",
       "      <th>NYC</th>\n",
       "      <td>384193</td>\n",
       "      <td>18996</td>\n",
       "    </tr>\n",
       "    <tr>\n",
       "      <th>OH</th>\n",
       "      <td>769785</td>\n",
       "      <td>9303</td>\n",
       "    </tr>\n",
       "    <tr>\n",
       "      <th>OK</th>\n",
       "      <td>338177</td>\n",
       "      <td>2650</td>\n",
       "    </tr>\n",
       "    <tr>\n",
       "      <th>OR</th>\n",
       "      <td>123839</td>\n",
       "      <td>1533</td>\n",
       "    </tr>\n",
       "    <tr>\n",
       "      <th>PR</th>\n",
       "      <td>82350</td>\n",
       "      <td>1582</td>\n",
       "    </tr>\n",
       "    <tr>\n",
       "      <th>RMI</th>\n",
       "      <td>4</td>\n",
       "      <td>0</td>\n",
       "    </tr>\n",
       "    <tr>\n",
       "      <th>SC</th>\n",
       "      <td>350217</td>\n",
       "      <td>5688</td>\n",
       "    </tr>\n",
       "    <tr>\n",
       "      <th>TN</th>\n",
       "      <td>647106</td>\n",
       "      <td>7640</td>\n",
       "    </tr>\n",
       "    <tr>\n",
       "      <th>UT</th>\n",
       "      <td>302945</td>\n",
       "      <td>1363</td>\n",
       "    </tr>\n",
       "    <tr>\n",
       "      <th>VA</th>\n",
       "      <td>395935</td>\n",
       "      <td>5158</td>\n",
       "    </tr>\n",
       "    <tr>\n",
       "      <th>WI</th>\n",
       "      <td>546061</td>\n",
       "      <td>5359</td>\n",
       "    </tr>\n",
       "    <tr>\n",
       "      <th>WY</th>\n",
       "      <td>46338</td>\n",
       "      <td>488</td>\n",
       "    </tr>\n",
       "  </tbody>\n",
       "</table>\n",
       "</div>"
      ],
      "text/plain": [
       "       new_case  new_death\n",
       "state                     \n",
       "AL       397177       5221\n",
       "AZ       613827       9964\n",
       "CO       352017       4813\n",
       "CT       189573       5341\n",
       "DE        62735        905\n",
       "FSM           1          0\n",
       "GA       739134      10697\n",
       "ID       148181       1495\n",
       "IL       999590      18034\n",
       "KY       300828       2751\n",
       "MA       386853      11523\n",
       "ME        28764        406\n",
       "MI       531836      11838\n",
       "MP          111          2\n",
       "MS       236335       5034\n",
       "MT        85898       1046\n",
       "NC       623188       7567\n",
       "NJ        68489       2616\n",
       "NYC      384193      18996\n",
       "OH       769785       9303\n",
       "OK       338177       2650\n",
       "OR       123839       1533\n",
       "PR        82350       1582\n",
       "RMI           4          0\n",
       "SC       350217       5688\n",
       "TN       647106       7640\n",
       "UT       302945       1363\n",
       "VA       395935       5158\n",
       "WI       546061       5359\n",
       "WY        46338        488"
      ]
     },
     "execution_count": 49,
     "metadata": {},
     "output_type": "execute_result"
    }
   ],
   "source": [
    "df_sample = usa_covide_df_with_updated_headers\n",
    "df_sample.pivot_table(values=['new_death' , 'new_case'] , \n",
    "                     index = ['state'], aggfunc =np.sum )"
   ]
  },
  {
   "cell_type": "code",
   "execution_count": null,
   "metadata": {},
   "outputs": [],
   "source": []
  }
 ],
 "metadata": {
  "kernelspec": {
   "display_name": "Python 3",
   "language": "python",
   "name": "python3"
  },
  "language_info": {
   "codemirror_mode": {
    "name": "ipython",
    "version": 3
   },
   "file_extension": ".py",
   "mimetype": "text/x-python",
   "name": "python",
   "nbconvert_exporter": "python",
   "pygments_lexer": "ipython3",
   "version": "3.8.3"
  }
 },
 "nbformat": 4,
 "nbformat_minor": 4
}
