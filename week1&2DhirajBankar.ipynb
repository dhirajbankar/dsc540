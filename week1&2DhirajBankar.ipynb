{
 "cells": [
  {
   "cell_type": "markdown",
   "metadata": {},
   "source": [
    "# Week 1&2 assignment"
   ]
  },
  {
   "cell_type": "markdown",
   "metadata": {},
   "source": [
    "#### 1. Install the latest versions of either Docker or Anaconda. Your book Data Wrangling with Python uses Docker, however, you are welcome to use whichever distributer you feel comfortable with. Create a Jupyter notebook where you create a list, iterate over the list and sort your results, generate random numbers, add to the list, and then print your results."
   ]
  },
  {
   "cell_type": "code",
   "execution_count": 1,
   "metadata": {},
   "outputs": [],
   "source": [
    "import numpy as np\n",
    "import pandas as pd\n",
    "import random"
   ]
  },
  {
   "cell_type": "code",
   "execution_count": 2,
   "metadata": {},
   "outputs": [],
   "source": [
    "list1 = [2,5,4,7,9,9,5,6,8,8,3]"
   ]
  },
  {
   "cell_type": "code",
   "execution_count": 3,
   "metadata": {},
   "outputs": [
    {
     "name": "stdout",
     "output_type": "stream",
     "text": [
      "2\n",
      "5\n",
      "4\n",
      "7\n",
      "9\n",
      "9\n",
      "5\n",
      "6\n",
      "8\n",
      "8\n",
      "3\n"
     ]
    }
   ],
   "source": [
    "for a in list1:\n",
    "    print(a)"
   ]
  },
  {
   "cell_type": "code",
   "execution_count": 4,
   "metadata": {},
   "outputs": [
    {
     "data": {
      "text/plain": [
       "[9, 9, 8, 8, 7, 6, 5, 5, 4, 3, 2]"
      ]
     },
     "execution_count": 4,
     "metadata": {},
     "output_type": "execute_result"
    }
   ],
   "source": [
    "list1.sort(reverse=True)\n",
    "list1"
   ]
  },
  {
   "cell_type": "code",
   "execution_count": 5,
   "metadata": {},
   "outputs": [
    {
     "data": {
      "text/plain": [
       "[13, 25, 30, 5, 22, 16, 19, 24, 2, 14]"
      ]
     },
     "execution_count": 5,
     "metadata": {},
     "output_type": "execute_result"
    }
   ],
   "source": [
    "list2 = [random.randint(0,30) for x in range (0,10)]\n",
    "list2"
   ]
  },
  {
   "cell_type": "code",
   "execution_count": 6,
   "metadata": {},
   "outputs": [
    {
     "data": {
      "text/plain": [
       "[9, 9, 8, 8, 7, 6, 5, 5, 4, 3, 2, 13, 25, 30, 5, 22, 16, 19, 24, 2, 14]"
      ]
     },
     "execution_count": 6,
     "metadata": {},
     "output_type": "execute_result"
    }
   ],
   "source": [
    "for x in list2 :\n",
    "    list1.append(x)\n",
    "    \n",
    "list1"
   ]
  },
  {
   "cell_type": "markdown",
   "metadata": {},
   "source": [
    "####  2. Create a line chart with Matplotlib and the following data file.\n",
    "    a. Data file: world-population.xlsm\n",
    "    b. (Hint: Python for Data Analysis: Page 19-50 & Data Wrangling with Python: Preface)\n"
   ]
  },
  {
   "cell_type": "code",
   "execution_count": 7,
   "metadata": {},
   "outputs": [
    {
     "data": {
      "text/html": [
       "<div>\n",
       "<style scoped>\n",
       "    .dataframe tbody tr th:only-of-type {\n",
       "        vertical-align: middle;\n",
       "    }\n",
       "\n",
       "    .dataframe tbody tr th {\n",
       "        vertical-align: top;\n",
       "    }\n",
       "\n",
       "    .dataframe thead th {\n",
       "        text-align: right;\n",
       "    }\n",
       "</style>\n",
       "<table border=\"1\" class=\"dataframe\">\n",
       "  <thead>\n",
       "    <tr style=\"text-align: right;\">\n",
       "      <th></th>\n",
       "      <th>Population</th>\n",
       "    </tr>\n",
       "    <tr>\n",
       "      <th>Year</th>\n",
       "      <th></th>\n",
       "    </tr>\n",
       "  </thead>\n",
       "  <tbody>\n",
       "    <tr>\n",
       "      <th>1960</th>\n",
       "      <td>3028654024</td>\n",
       "    </tr>\n",
       "    <tr>\n",
       "      <th>1961</th>\n",
       "      <td>3068356747</td>\n",
       "    </tr>\n",
       "    <tr>\n",
       "      <th>1962</th>\n",
       "      <td>3121963107</td>\n",
       "    </tr>\n",
       "    <tr>\n",
       "      <th>1963</th>\n",
       "      <td>3187471383</td>\n",
       "    </tr>\n",
       "    <tr>\n",
       "      <th>1964</th>\n",
       "      <td>3253112403</td>\n",
       "    </tr>\n",
       "  </tbody>\n",
       "</table>\n",
       "</div>"
      ],
      "text/plain": [
       "      Population\n",
       "Year            \n",
       "1960  3028654024\n",
       "1961  3068356747\n",
       "1962  3121963107\n",
       "1963  3187471383\n",
       "1964  3253112403"
      ]
     },
     "execution_count": 7,
     "metadata": {},
     "output_type": "execute_result"
    }
   ],
   "source": [
    "world_population = pd.read_excel('Data/world-population.xlsm', index_col=0)   \n",
    "world_population.describe(include='all')\n",
    "world_population.head()"
   ]
  },
  {
   "cell_type": "code",
   "execution_count": 8,
   "metadata": {},
   "outputs": [
    {
     "data": {
      "image/png": "[encoded data removed]",
      "text/plain": [
       "<Figure size 432x288 with 1 Axes>"
      ]
     },
     "metadata": {
      "needs_background": "light"
     },
     "output_type": "display_data"
    }
   ],
   "source": [
    "world_population.columns\n",
    "import matplotlib.pyplot as plt\n",
    "plt.plot(world_population['Population'] )\n",
    "plt.show()"
   ]
  },
  {
   "cell_type": "markdown",
   "metadata": {},
   "source": [
    "\n",
    "####  3. Complete the following activities:"
   ]
  },
  {
   "cell_type": "markdown",
   "metadata": {},
   "source": [
    "### a. Data Wrangling with Python: Activity 1 page 17"
   ]
  },
  {
   "cell_type": "code",
   "execution_count": 9,
   "metadata": {
    "scrolled": true
   },
   "outputs": [
    {
     "name": "stdout",
     "output_type": "stream",
     "text": [
      "New List Lenghts: [24, 25, 38]\n",
      "29.0\n"
     ]
    }
   ],
   "source": [
    "from statistics import mean \n",
    "newListLenghts = []\n",
    "NUMBER_OF_ETERATIONS = 3 \n",
    "for i in range (0,NUMBER_OF_ETERATIONS):\n",
    "    list100 = [random.randint(0,50) for x in range (0,100)]\n",
    "    newList = []\n",
    "    for x in list100:\n",
    "        if x % 3 == 0 :\n",
    "            newList.append(x)\n",
    "            \n",
    "    newListLenghts.append(len(newList))\n",
    "    \n",
    "avg_diff = sum(newListLenghts) / float(len(newListLenghts))\n",
    "avg_diff\n",
    "\n",
    "print(\"New List Lenghts:\",newListLenghts)\n",
    "print(avg_diff)\n"
   ]
  },
  {
   "cell_type": "markdown",
   "metadata": {},
   "source": [
    "### b. Data Wrangling with Python: Activity 2 page 31"
   ]
  },
  {
   "cell_type": "markdown",
   "metadata": {},
   "source": [
    "#### Task -1"
   ]
  },
  {
   "cell_type": "code",
   "execution_count": 10,
   "metadata": {},
   "outputs": [],
   "source": [
    "\n",
    "mutiline_text = \"\"\"The selection would make Austin one of the most prominent members of Biden's Cabinet and incoming administration. The secretary of defense is in control of the nation's largest government agency, commanding troops around the world and the complicated internal workings of the Pentagon that make it one of the world's most formidable bureaucracies.\n",
    "It also means Austin's political chops would be put to the test, juggling calls to cut defense spending, as some in Congress want, while still funding innovative future technology and prioritizing the challenges posed by Russia and China -- all while maintaining military deterrence against Iran, North Korea, and ISIS.\n",
    "\n",
    "House chairman endorses Flournoy to be Biden's Secretary of Defense nominee\n",
    "Biden picked Austin despite the fact that he was not the first choice among influential members of his own party on Capitol Hill.\n",
    "A few hours before the pick was reported House Armed Services Committee chairman Rep. Adam Smith, a Democrat from Washington, said that he believed another candidate, Michele Flournoy, is \"hands down\" the most qualified person for the job.\n",
    "\"I certainly communicated to the Biden people that I think Michele Flournoy is hands down the best qualified person for the job,\" Smith told reporters, responding to a question from CNN. \"That does not mean that she's the only person that could do the job.\"\n",
    "\"Michele is ... uniquely qualified,\" he added, citing her experience as undersecretary for policy and the work she has done since. \"It takes a certain amount of understanding of bureaucracy and the Pentagon in order to make changes stick. Michelle has that. It's not to say there aren't other people (who) could fill the position. But I think we have a clear case where she is the most qualified at this point. \"\"\""
   ]
  },
  {
   "cell_type": "code",
   "execution_count": 11,
   "metadata": {},
   "outputs": [
    {
     "data": {
      "text/plain": [
       "str"
      ]
     },
     "execution_count": 11,
     "metadata": {},
     "output_type": "execute_result"
    }
   ],
   "source": [
    "type(mutiline_text)"
   ]
  },
  {
   "cell_type": "code",
   "execution_count": 12,
   "metadata": {},
   "outputs": [
    {
     "data": {
      "text/plain": [
       "1784"
      ]
     },
     "execution_count": 12,
     "metadata": {},
     "output_type": "execute_result"
    }
   ],
   "source": [
    "len(mutiline_text)"
   ]
  },
  {
   "cell_type": "markdown",
   "metadata": {},
   "source": [
    "#### Task -2"
   ]
  },
  {
   "cell_type": "code",
   "execution_count": 13,
   "metadata": {},
   "outputs": [],
   "source": [
    "mutiline_text = mutiline_text.replace('\\n', \"\")"
   ]
  },
  {
   "cell_type": "code",
   "execution_count": 14,
   "metadata": {},
   "outputs": [
    {
     "data": {
      "text/plain": [
       "'The selection would make Austin one of the most prominent members of Biden\\'s Cabinet and incoming administration. The secretary of defense is in control of the nation\\'s largest government agency, commanding troops around the world and the complicated internal workings of the Pentagon that make it one of the world\\'s most formidable bureaucracies.It also means Austin\\'s political chops would be put to the test, juggling calls to cut defense spending, as some in Congress want, while still funding innovative future technology and prioritizing the challenges posed by Russia and China -- all while maintaining military deterrence against Iran, North Korea, and ISIS.House chairman endorses Flournoy to be Biden\\'s Secretary of Defense nomineeBiden picked Austin despite the fact that he was not the first choice among influential members of his own party on Capitol Hill.A few hours before the pick was reported House Armed Services Committee chairman Rep. Adam Smith, a Democrat from Washington, said that he believed another candidate, Michele Flournoy,\\xa0is \"hands down\" the most qualified person for the job.\"I certainly communicated to the Biden people that I think Michele Flournoy is hands down the best qualified person for the job,\" Smith told reporters, responding to a question from CNN. \"That does not mean that she\\'s the only person that could do the job.\"\"Michele is ... uniquely qualified,\" he added, citing her experience as undersecretary for policy and the work she has done since. \"It takes a certain amount of understanding of bureaucracy and the Pentagon in order to make changes stick. Michelle has that. It\\'s not to say there aren\\'t other people (who) could fill the position. But I think we have a clear case where she is the most qualified at this point. '"
      ]
     },
     "execution_count": 14,
     "metadata": {},
     "output_type": "execute_result"
    }
   ],
   "source": [
    "mutiline_text"
   ]
  },
  {
   "cell_type": "code",
   "execution_count": 15,
   "metadata": {},
   "outputs": [
    {
     "data": {
      "text/plain": [
       "'The selection would make Austin one of the most prominent members of Biden s Cabinet and incoming administration  The secretary of defense is in control of the nation s largest government agency  commanding troops around the world and the complicated internal workings of the Pentagon that make it one of the world s most formidable bureaucracies It also means Austin s political chops would be put to the test  juggling calls to cut defense spending  as some in Congress want  while still funding innovative future technology and prioritizing the challenges posed by Russia and China    all while maintaining military deterrence against Iran  North Korea  and ISIS House chairman endorses Flournoy to be Biden s Secretary of Defense nomineeBiden picked Austin despite the fact that he was not the first choice among influential members of his own party on Capitol Hill A few hours before the pick was reported House Armed Services Committee chairman Rep  Adam Smith  a Democrat from Washington  said that he believed another candidate  Michele Flournoy  is  hands down  the most qualified person for the job  I certainly communicated to the Biden people that I think Michele Flournoy is hands down the best qualified person for the job   Smith told reporters  responding to a question from CNN   That does not mean that she s the only person that could do the job   Michele is     uniquely qualified   he added  citing her experience as undersecretary for policy and the work she has done since   It takes a certain amount of understanding of bureaucracy and the Pentagon in order to make changes stick  Michelle has that  It s not to say there aren t other people  who  could fill the position  But I think we have a clear case where she is the most qualified at this point  '"
      ]
     },
     "execution_count": 15,
     "metadata": {},
     "output_type": "execute_result"
    }
   ],
   "source": [
    "# remove special chars, punctuation etc.\n",
    "cleaned_multiline_text = \"\"\n",
    "for char in mutiline_text:\n",
    "    if char == \" \":\n",
    "        cleaned_multiline_text += char\n",
    "    elif char.isalnum():  # using the isalnum() method of strings.\n",
    "        cleaned_multiline_text += char\n",
    "    else:\n",
    "        cleaned_multiline_text += \" \"\n",
    "cleaned_multiline_text"
   ]
  },
  {
   "cell_type": "code",
   "execution_count": 16,
   "metadata": {},
   "outputs": [
    {
     "data": {
      "text/plain": [
       "'The selection would make Austin one of the most prominent members of Bidens Cabinet and incoming administration The secretary of defense is in control of the nations largest government agency commanding troops around the world and the complicated internal workings of the Pentagon that make it one of the worlds most formidable bureaucraciesIt also means Austins political chops would be put to the test juggling calls to cut defense spending as some in Congress want while still funding innovative future technology and prioritizing the challenges posed by Russia and China -- all while maintaining military deterrence against Iran North Korea and ISISHouse chairman endorses Flournoy to be Bidens Secretary of Defense nomineeBiden picked Austin despite the fact that he was not the first choice among influential members of his own party on Capitol HillA few hours before the pick was reported House Armed Services Committee chairman Rep Adam Smith a Democrat from Washington said that he believed another candidate Michele Flournoy\\xa0is hands down the most qualified person for the jobI certainly communicated to the Biden people that I think Michele Flournoy is hands down the best qualified person for the job Smith told reporters responding to a question from CNN That does not mean that shes the only person that could do the jobMichele is  uniquely qualified he added citing her experience as undersecretary for policy and the work she has done since It takes a certain amount of understanding of bureaucracy and the Pentagon in order to make changes stick Michelle has that Its not to say there arent other people (who) could fill the position But I think we have a clear case where she is the most qualified at this point '"
      ]
     },
     "execution_count": 16,
     "metadata": {},
     "output_type": "execute_result"
    }
   ],
   "source": [
    "# I like this method of cleanig of special charactors\n",
    "import re\n",
    "cleaned_multiline_text_2 = re.sub(r'[?|$|.|!|\"|\\'|,|;|:]',r'',mutiline_text)\n",
    "cleaned_multiline_text_2"
   ]
  },
  {
   "cell_type": "markdown",
   "metadata": {},
   "source": [
    "The above uses Regular Expression. Which will be introduced at a later time"
   ]
  },
  {
   "cell_type": "markdown",
   "metadata": {},
   "source": [
    "#### Task - 3"
   ]
  },
  {
   "cell_type": "code",
   "execution_count": 17,
   "metadata": {},
   "outputs": [
    {
     "data": {
      "text/plain": [
       "['The',\n",
       " 'selection',\n",
       " 'would',\n",
       " 'make',\n",
       " 'Austin',\n",
       " 'one',\n",
       " 'of',\n",
       " 'the',\n",
       " 'most',\n",
       " 'prominent',\n",
       " 'members',\n",
       " 'of',\n",
       " 'Bidens',\n",
       " 'Cabinet',\n",
       " 'and',\n",
       " 'incoming',\n",
       " 'administration',\n",
       " 'The',\n",
       " 'secretary',\n",
       " 'of',\n",
       " 'defense',\n",
       " 'is',\n",
       " 'in',\n",
       " 'control',\n",
       " 'of',\n",
       " 'the',\n",
       " 'nations',\n",
       " 'largest',\n",
       " 'government',\n",
       " 'agency',\n",
       " 'commanding',\n",
       " 'troops',\n",
       " 'around',\n",
       " 'the',\n",
       " 'world',\n",
       " 'and',\n",
       " 'the',\n",
       " 'complicated',\n",
       " 'internal',\n",
       " 'workings',\n",
       " 'of',\n",
       " 'the',\n",
       " 'Pentagon',\n",
       " 'that',\n",
       " 'make',\n",
       " 'it',\n",
       " 'one',\n",
       " 'of',\n",
       " 'the',\n",
       " 'worlds',\n",
       " 'most',\n",
       " 'formidable',\n",
       " 'bureaucraciesIt',\n",
       " 'also',\n",
       " 'means',\n",
       " 'Austins',\n",
       " 'political',\n",
       " 'chops',\n",
       " 'would',\n",
       " 'be',\n",
       " 'put',\n",
       " 'to',\n",
       " 'the',\n",
       " 'test',\n",
       " 'juggling',\n",
       " 'calls',\n",
       " 'to',\n",
       " 'cut',\n",
       " 'defense',\n",
       " 'spending',\n",
       " 'as',\n",
       " 'some',\n",
       " 'in',\n",
       " 'Congress',\n",
       " 'want',\n",
       " 'while',\n",
       " 'still',\n",
       " 'funding',\n",
       " 'innovative',\n",
       " 'future',\n",
       " 'technology',\n",
       " 'and',\n",
       " 'prioritizing',\n",
       " 'the',\n",
       " 'challenges',\n",
       " 'posed',\n",
       " 'by',\n",
       " 'Russia',\n",
       " 'and',\n",
       " 'China',\n",
       " '--',\n",
       " 'all',\n",
       " 'while',\n",
       " 'maintaining',\n",
       " 'military',\n",
       " 'deterrence',\n",
       " 'against',\n",
       " 'Iran',\n",
       " 'North',\n",
       " 'Korea',\n",
       " 'and',\n",
       " 'ISISHouse',\n",
       " 'chairman',\n",
       " 'endorses',\n",
       " 'Flournoy',\n",
       " 'to',\n",
       " 'be',\n",
       " 'Bidens',\n",
       " 'Secretary',\n",
       " 'of',\n",
       " 'Defense',\n",
       " 'nomineeBiden',\n",
       " 'picked',\n",
       " 'Austin',\n",
       " 'despite',\n",
       " 'the',\n",
       " 'fact',\n",
       " 'that',\n",
       " 'he',\n",
       " 'was',\n",
       " 'not',\n",
       " 'the',\n",
       " 'first',\n",
       " 'choice',\n",
       " 'among',\n",
       " 'influential',\n",
       " 'members',\n",
       " 'of',\n",
       " 'his',\n",
       " 'own',\n",
       " 'party',\n",
       " 'on',\n",
       " 'Capitol',\n",
       " 'HillA',\n",
       " 'few',\n",
       " 'hours',\n",
       " 'before',\n",
       " 'the',\n",
       " 'pick',\n",
       " 'was',\n",
       " 'reported',\n",
       " 'House',\n",
       " 'Armed',\n",
       " 'Services',\n",
       " 'Committee',\n",
       " 'chairman',\n",
       " 'Rep',\n",
       " 'Adam',\n",
       " 'Smith',\n",
       " 'a',\n",
       " 'Democrat',\n",
       " 'from',\n",
       " 'Washington',\n",
       " 'said',\n",
       " 'that',\n",
       " 'he',\n",
       " 'believed',\n",
       " 'another',\n",
       " 'candidate',\n",
       " 'Michele',\n",
       " 'Flournoy',\n",
       " 'is',\n",
       " 'hands',\n",
       " 'down',\n",
       " 'the',\n",
       " 'most',\n",
       " 'qualified',\n",
       " 'person',\n",
       " 'for',\n",
       " 'the',\n",
       " 'jobI',\n",
       " 'certainly',\n",
       " 'communicated',\n",
       " 'to',\n",
       " 'the',\n",
       " 'Biden',\n",
       " 'people',\n",
       " 'that',\n",
       " 'I',\n",
       " 'think',\n",
       " 'Michele',\n",
       " 'Flournoy',\n",
       " 'is',\n",
       " 'hands',\n",
       " 'down',\n",
       " 'the',\n",
       " 'best',\n",
       " 'qualified',\n",
       " 'person',\n",
       " 'for',\n",
       " 'the',\n",
       " 'job',\n",
       " 'Smith',\n",
       " 'told',\n",
       " 'reporters',\n",
       " 'responding',\n",
       " 'to',\n",
       " 'a',\n",
       " 'question',\n",
       " 'from',\n",
       " 'CNN',\n",
       " 'That',\n",
       " 'does',\n",
       " 'not',\n",
       " 'mean',\n",
       " 'that',\n",
       " 'shes',\n",
       " 'the',\n",
       " 'only',\n",
       " 'person',\n",
       " 'that',\n",
       " 'could',\n",
       " 'do',\n",
       " 'the',\n",
       " 'jobMichele',\n",
       " 'is',\n",
       " 'uniquely',\n",
       " 'qualified',\n",
       " 'he',\n",
       " 'added',\n",
       " 'citing',\n",
       " 'her',\n",
       " 'experience',\n",
       " 'as',\n",
       " 'undersecretary',\n",
       " 'for',\n",
       " 'policy',\n",
       " 'and',\n",
       " 'the',\n",
       " 'work',\n",
       " 'she',\n",
       " 'has',\n",
       " 'done',\n",
       " 'since',\n",
       " 'It',\n",
       " 'takes',\n",
       " 'a',\n",
       " 'certain',\n",
       " 'amount',\n",
       " 'of',\n",
       " 'understanding',\n",
       " 'of',\n",
       " 'bureaucracy',\n",
       " 'and',\n",
       " 'the',\n",
       " 'Pentagon',\n",
       " 'in',\n",
       " 'order',\n",
       " 'to',\n",
       " 'make',\n",
       " 'changes',\n",
       " 'stick',\n",
       " 'Michelle',\n",
       " 'has',\n",
       " 'that',\n",
       " 'Its',\n",
       " 'not',\n",
       " 'to',\n",
       " 'say',\n",
       " 'there',\n",
       " 'arent',\n",
       " 'other',\n",
       " 'people',\n",
       " '(who)',\n",
       " 'could',\n",
       " 'fill',\n",
       " 'the',\n",
       " 'position',\n",
       " 'But',\n",
       " 'I',\n",
       " 'think',\n",
       " 'we',\n",
       " 'have',\n",
       " 'a',\n",
       " 'clear',\n",
       " 'case',\n",
       " 'where',\n",
       " 'she',\n",
       " 'is',\n",
       " 'the',\n",
       " 'most',\n",
       " 'qualified',\n",
       " 'at',\n",
       " 'this',\n",
       " 'point']"
      ]
     },
     "execution_count": 17,
     "metadata": {},
     "output_type": "execute_result"
    }
   ],
   "source": [
    "list_of_words = cleaned_multiline_text_2.split()\n",
    "list_of_words"
   ]
  },
  {
   "cell_type": "code",
   "execution_count": 18,
   "metadata": {},
   "outputs": [
    {
     "data": {
      "text/plain": [
       "285"
      ]
     },
     "execution_count": 18,
     "metadata": {},
     "output_type": "execute_result"
    }
   ],
   "source": [
    "len(list_of_words)"
   ]
  },
  {
   "cell_type": "markdown",
   "metadata": {},
   "source": [
    "#### Task - 4"
   ]
  },
  {
   "cell_type": "code",
   "execution_count": 19,
   "metadata": {},
   "outputs": [
    {
     "data": {
      "text/plain": [
       "186"
      ]
     },
     "execution_count": 19,
     "metadata": {},
     "output_type": "execute_result"
    }
   ],
   "source": [
    "unique_words_as_dict = dict.fromkeys(list_of_words)\n",
    "len(list(unique_words_as_dict.keys()))"
   ]
  },
  {
   "cell_type": "markdown",
   "metadata": {},
   "source": [
    "#### Task -5"
   ]
  },
  {
   "cell_type": "code",
   "execution_count": 20,
   "metadata": {},
   "outputs": [
    {
     "data": {
      "text/plain": [
       "{'The': 2,\n",
       " 'selection': 1,\n",
       " 'would': 2,\n",
       " 'make': 3,\n",
       " 'Austin': 2,\n",
       " 'one': 2,\n",
       " 'of': 10,\n",
       " 'the': 22,\n",
       " 'most': 4,\n",
       " 'prominent': 1,\n",
       " 'members': 2,\n",
       " 'Bidens': 2,\n",
       " 'Cabinet': 1,\n",
       " 'and': 7,\n",
       " 'incoming': 1,\n",
       " 'administration': 1,\n",
       " 'secretary': 1,\n",
       " 'defense': 2,\n",
       " 'is': 5,\n",
       " 'in': 3,\n",
       " 'control': 1,\n",
       " 'nations': 1,\n",
       " 'largest': 1,\n",
       " 'government': 1,\n",
       " 'agency': 1,\n",
       " 'commanding': 1,\n",
       " 'troops': 1,\n",
       " 'around': 1,\n",
       " 'world': 1,\n",
       " 'complicated': 1,\n",
       " 'internal': 1,\n",
       " 'workings': 1,\n",
       " 'Pentagon': 2,\n",
       " 'that': 7,\n",
       " 'it': 1,\n",
       " 'worlds': 1,\n",
       " 'formidable': 1,\n",
       " 'bureaucraciesIt': 1,\n",
       " 'also': 1,\n",
       " 'means': 1,\n",
       " 'Austins': 1,\n",
       " 'political': 1,\n",
       " 'chops': 1,\n",
       " 'be': 2,\n",
       " 'put': 1,\n",
       " 'to': 7,\n",
       " 'test': 1,\n",
       " 'juggling': 1,\n",
       " 'calls': 1,\n",
       " 'cut': 1,\n",
       " 'spending': 1,\n",
       " 'as': 2,\n",
       " 'some': 1,\n",
       " 'Congress': 1,\n",
       " 'want': 1,\n",
       " 'while': 2,\n",
       " 'still': 1,\n",
       " 'funding': 1,\n",
       " 'innovative': 1,\n",
       " 'future': 1,\n",
       " 'technology': 1,\n",
       " 'prioritizing': 1,\n",
       " 'challenges': 1,\n",
       " 'posed': 1,\n",
       " 'by': 1,\n",
       " 'Russia': 1,\n",
       " 'China': 1,\n",
       " '--': 1,\n",
       " 'all': 1,\n",
       " 'maintaining': 1,\n",
       " 'military': 1,\n",
       " 'deterrence': 1,\n",
       " 'against': 1,\n",
       " 'Iran': 1,\n",
       " 'North': 1,\n",
       " 'Korea': 1,\n",
       " 'ISISHouse': 1,\n",
       " 'chairman': 2,\n",
       " 'endorses': 1,\n",
       " 'Flournoy': 3,\n",
       " 'Secretary': 1,\n",
       " 'Defense': 1,\n",
       " 'nomineeBiden': 1,\n",
       " 'picked': 1,\n",
       " 'despite': 1,\n",
       " 'fact': 1,\n",
       " 'he': 3,\n",
       " 'was': 2,\n",
       " 'not': 3,\n",
       " 'first': 1,\n",
       " 'choice': 1,\n",
       " 'among': 1,\n",
       " 'influential': 1,\n",
       " 'his': 1,\n",
       " 'own': 1,\n",
       " 'party': 1,\n",
       " 'on': 1,\n",
       " 'Capitol': 1,\n",
       " 'HillA': 1,\n",
       " 'few': 1,\n",
       " 'hours': 1,\n",
       " 'before': 1,\n",
       " 'pick': 1,\n",
       " 'reported': 1,\n",
       " 'House': 1,\n",
       " 'Armed': 1,\n",
       " 'Services': 1,\n",
       " 'Committee': 1,\n",
       " 'Rep': 1,\n",
       " 'Adam': 1,\n",
       " 'Smith': 2,\n",
       " 'a': 4,\n",
       " 'Democrat': 1,\n",
       " 'from': 2,\n",
       " 'Washington': 1,\n",
       " 'said': 1,\n",
       " 'believed': 1,\n",
       " 'another': 1,\n",
       " 'candidate': 1,\n",
       " 'Michele': 2,\n",
       " 'hands': 2,\n",
       " 'down': 2,\n",
       " 'qualified': 4,\n",
       " 'person': 3,\n",
       " 'for': 3,\n",
       " 'jobI': 1,\n",
       " 'certainly': 1,\n",
       " 'communicated': 1,\n",
       " 'Biden': 1,\n",
       " 'people': 2,\n",
       " 'I': 2,\n",
       " 'think': 2,\n",
       " 'best': 1,\n",
       " 'job': 1,\n",
       " 'told': 1,\n",
       " 'reporters': 1,\n",
       " 'responding': 1,\n",
       " 'question': 1,\n",
       " 'CNN': 1,\n",
       " 'That': 1,\n",
       " 'does': 1,\n",
       " 'mean': 1,\n",
       " 'shes': 1,\n",
       " 'only': 1,\n",
       " 'could': 2,\n",
       " 'do': 1,\n",
       " 'jobMichele': 1,\n",
       " 'uniquely': 1,\n",
       " 'added': 1,\n",
       " 'citing': 1,\n",
       " 'her': 1,\n",
       " 'experience': 1,\n",
       " 'undersecretary': 1,\n",
       " 'policy': 1,\n",
       " 'work': 1,\n",
       " 'she': 2,\n",
       " 'has': 2,\n",
       " 'done': 1,\n",
       " 'since': 1,\n",
       " 'It': 1,\n",
       " 'takes': 1,\n",
       " 'certain': 1,\n",
       " 'amount': 1,\n",
       " 'understanding': 1,\n",
       " 'bureaucracy': 1,\n",
       " 'order': 1,\n",
       " 'changes': 1,\n",
       " 'stick': 1,\n",
       " 'Michelle': 1,\n",
       " 'Its': 1,\n",
       " 'say': 1,\n",
       " 'there': 1,\n",
       " 'arent': 1,\n",
       " 'other': 1,\n",
       " '(who)': 1,\n",
       " 'fill': 1,\n",
       " 'position': 1,\n",
       " 'But': 1,\n",
       " 'we': 1,\n",
       " 'have': 1,\n",
       " 'clear': 1,\n",
       " 'case': 1,\n",
       " 'where': 1,\n",
       " 'at': 1,\n",
       " 'this': 1,\n",
       " 'point': 1}"
      ]
     },
     "execution_count": 20,
     "metadata": {},
     "output_type": "execute_result"
    }
   ],
   "source": [
    "for word in list_of_words:\n",
    "    if unique_words_as_dict[word] is None:\n",
    "        unique_words_as_dict[word] = 1\n",
    "    else:\n",
    "        unique_words_as_dict[word] += 1\n",
    "unique_words_as_dict"
   ]
  },
  {
   "cell_type": "markdown",
   "metadata": {},
   "source": [
    "#### Bonus task: Find the top 25 words"
   ]
  },
  {
   "cell_type": "code",
   "execution_count": 21,
   "metadata": {},
   "outputs": [
    {
     "data": {
      "text/plain": [
       "dict_items([('The', 2), ('selection', 1), ('would', 2), ('make', 3), ('Austin', 2), ('one', 2), ('of', 10), ('the', 22), ('most', 4), ('prominent', 1), ('members', 2), ('Bidens', 2), ('Cabinet', 1), ('and', 7), ('incoming', 1), ('administration', 1), ('secretary', 1), ('defense', 2), ('is', 5), ('in', 3), ('control', 1), ('nations', 1), ('largest', 1), ('government', 1), ('agency', 1), ('commanding', 1), ('troops', 1), ('around', 1), ('world', 1), ('complicated', 1), ('internal', 1), ('workings', 1), ('Pentagon', 2), ('that', 7), ('it', 1), ('worlds', 1), ('formidable', 1), ('bureaucraciesIt', 1), ('also', 1), ('means', 1), ('Austins', 1), ('political', 1), ('chops', 1), ('be', 2), ('put', 1), ('to', 7), ('test', 1), ('juggling', 1), ('calls', 1), ('cut', 1), ('spending', 1), ('as', 2), ('some', 1), ('Congress', 1), ('want', 1), ('while', 2), ('still', 1), ('funding', 1), ('innovative', 1), ('future', 1), ('technology', 1), ('prioritizing', 1), ('challenges', 1), ('posed', 1), ('by', 1), ('Russia', 1), ('China', 1), ('--', 1), ('all', 1), ('maintaining', 1), ('military', 1), ('deterrence', 1), ('against', 1), ('Iran', 1), ('North', 1), ('Korea', 1), ('ISISHouse', 1), ('chairman', 2), ('endorses', 1), ('Flournoy', 3), ('Secretary', 1), ('Defense', 1), ('nomineeBiden', 1), ('picked', 1), ('despite', 1), ('fact', 1), ('he', 3), ('was', 2), ('not', 3), ('first', 1), ('choice', 1), ('among', 1), ('influential', 1), ('his', 1), ('own', 1), ('party', 1), ('on', 1), ('Capitol', 1), ('HillA', 1), ('few', 1), ('hours', 1), ('before', 1), ('pick', 1), ('reported', 1), ('House', 1), ('Armed', 1), ('Services', 1), ('Committee', 1), ('Rep', 1), ('Adam', 1), ('Smith', 2), ('a', 4), ('Democrat', 1), ('from', 2), ('Washington', 1), ('said', 1), ('believed', 1), ('another', 1), ('candidate', 1), ('Michele', 2), ('hands', 2), ('down', 2), ('qualified', 4), ('person', 3), ('for', 3), ('jobI', 1), ('certainly', 1), ('communicated', 1), ('Biden', 1), ('people', 2), ('I', 2), ('think', 2), ('best', 1), ('job', 1), ('told', 1), ('reporters', 1), ('responding', 1), ('question', 1), ('CNN', 1), ('That', 1), ('does', 1), ('mean', 1), ('shes', 1), ('only', 1), ('could', 2), ('do', 1), ('jobMichele', 1), ('uniquely', 1), ('added', 1), ('citing', 1), ('her', 1), ('experience', 1), ('undersecretary', 1), ('policy', 1), ('work', 1), ('she', 2), ('has', 2), ('done', 1), ('since', 1), ('It', 1), ('takes', 1), ('certain', 1), ('amount', 1), ('understanding', 1), ('bureaucracy', 1), ('order', 1), ('changes', 1), ('stick', 1), ('Michelle', 1), ('Its', 1), ('say', 1), ('there', 1), ('arent', 1), ('other', 1), ('(who)', 1), ('fill', 1), ('position', 1), ('But', 1), ('we', 1), ('have', 1), ('clear', 1), ('case', 1), ('where', 1), ('at', 1), ('this', 1), ('point', 1)])"
      ]
     },
     "execution_count": 21,
     "metadata": {},
     "output_type": "execute_result"
    }
   ],
   "source": [
    "unique_words_as_dict.items()"
   ]
  },
  {
   "cell_type": "code",
   "execution_count": 22,
   "metadata": {},
   "outputs": [],
   "source": [
    "top_words = sorted(unique_words_as_dict.items(), key=lambda key_val_tuple: key_val_tuple[1], reverse=True)"
   ]
  },
  {
   "cell_type": "code",
   "execution_count": 23,
   "metadata": {
    "scrolled": true
   },
   "outputs": [
    {
     "data": {
      "text/plain": [
       "[('the', 22),\n",
       " ('of', 10),\n",
       " ('and', 7),\n",
       " ('that', 7),\n",
       " ('to', 7),\n",
       " ('is', 5),\n",
       " ('most', 4),\n",
       " ('a', 4),\n",
       " ('qualified', 4),\n",
       " ('make', 3),\n",
       " ('in', 3),\n",
       " ('Flournoy', 3),\n",
       " ('he', 3),\n",
       " ('not', 3),\n",
       " ('person', 3),\n",
       " ('for', 3),\n",
       " ('The', 2),\n",
       " ('would', 2),\n",
       " ('Austin', 2),\n",
       " ('one', 2),\n",
       " ('members', 2),\n",
       " ('Bidens', 2),\n",
       " ('defense', 2),\n",
       " ('Pentagon', 2),\n",
       " ('be', 2)]"
      ]
     },
     "execution_count": 23,
     "metadata": {},
     "output_type": "execute_result"
    }
   ],
   "source": [
    "top_words[:25]"
   ]
  },
  {
   "cell_type": "markdown",
   "metadata": {},
   "source": [
    "## c. Data Wrangling with Python: Activity 3 page 49\n",
    "#### Task 1"
   ]
  },
  {
   "cell_type": "code",
   "execution_count": 24,
   "metadata": {},
   "outputs": [],
   "source": [
    "from itertools import permutations, dropwhile"
   ]
  },
  {
   "cell_type": "code",
   "execution_count": 25,
   "metadata": {},
   "outputs": [],
   "source": [
    "permutations?"
   ]
  },
  {
   "cell_type": "code",
   "execution_count": 26,
   "metadata": {},
   "outputs": [],
   "source": [
    "dropwhile?"
   ]
  },
  {
   "cell_type": "markdown",
   "metadata": {},
   "source": [
    "#### Task 2"
   ]
  },
  {
   "cell_type": "code",
   "execution_count": 27,
   "metadata": {},
   "outputs": [
    {
     "data": {
      "text/plain": [
       "<itertools.permutations at 0x7fd1b78a4400>"
      ]
     },
     "execution_count": 27,
     "metadata": {},
     "output_type": "execute_result"
    }
   ],
   "source": [
    "permutations(range(3))"
   ]
  },
  {
   "cell_type": "markdown",
   "metadata": {},
   "source": [
    "#### Task 3"
   ]
  },
  {
   "cell_type": "code",
   "execution_count": 28,
   "metadata": {},
   "outputs": [
    {
     "name": "stdout",
     "output_type": "stream",
     "text": [
      "(0, 1, 2)\n",
      "(0, 2, 1)\n",
      "(1, 0, 2)\n",
      "(1, 2, 0)\n",
      "(2, 0, 1)\n",
      "(2, 1, 0)\n"
     ]
    }
   ],
   "source": [
    "for number_tuple in permutations(range(3)):\n",
    "    print(number_tuple)\n",
    "    assert isinstance(number_tuple, tuple)"
   ]
  },
  {
   "cell_type": "markdown",
   "metadata": {},
   "source": [
    "#### Task 4"
   ]
  },
  {
   "cell_type": "code",
   "execution_count": 29,
   "metadata": {},
   "outputs": [
    {
     "name": "stdout",
     "output_type": "stream",
     "text": [
      "[1, 2]\n",
      "[2, 1]\n",
      "[1, 0, 2]\n",
      "[1, 2, 0]\n",
      "[2, 0, 1]\n",
      "[2, 1, 0]\n"
     ]
    }
   ],
   "source": [
    "for number_tuple in permutations(range(3)):\n",
    "    print(list(dropwhile(lambda x : x <= 0 , number_tuple)))"
   ]
  },
  {
   "cell_type": "markdown",
   "metadata": {},
   "source": [
    "#### Task 5"
   ]
  },
  {
   "cell_type": "code",
   "execution_count": 30,
   "metadata": {},
   "outputs": [],
   "source": [
    "import math\n",
    "def convert_to_number(number_stack):\n",
    "    final_number = 0\n",
    "    for i in range(0, len(number_stack)):\n",
    "        final_number += (number_stack.pop() * (math.pow(10, i)))\n",
    "    return final_number"
   ]
  },
  {
   "cell_type": "code",
   "execution_count": 31,
   "metadata": {},
   "outputs": [
    {
     "name": "stdout",
     "output_type": "stream",
     "text": [
      "12.0\n",
      "21.0\n",
      "102.0\n",
      "120.0\n",
      "201.0\n",
      "210.0\n"
     ]
    }
   ],
   "source": [
    "for number_tuple in permutations(range(3)):\n",
    "    number_stack = list(dropwhile(lambda x: x <= 0, number_tuple))\n",
    "    print(convert_to_number(number_stack))"
   ]
  },
  {
   "cell_type": "markdown",
   "metadata": {},
   "source": [
    "## Activity 04 Design your own CSV parser"
   ]
  },
  {
   "cell_type": "markdown",
   "metadata": {},
   "source": [
    "In this activity we will be tasked with building our own CSV reader and parser. Although it is an indeed big task if we try to cover all use cases and edge cases along with escape characters and all, for the sake of this small activity we will keep our requirements pretty low. We will assume that there is no escape character, meaning if you use a comma `,` at any place in your row it means you are starting a new column. We will also assume that the only  function we are interested about is to be able to read a CSV line by line where each read will generate a new dict with the column names as keys and the values for the row as value\n",
    "\n",
    "As an example\n",
    "<table>\n",
    "    <th>\n",
    "        <td>\n",
    "            Name\n",
    "         </td>\n",
    "         <td>\n",
    "             Age\n",
    "        </td>\n",
    "        <td>\n",
    "            Location\n",
    "        </td>\n",
    "    </th>\n",
    "    <tbody>\n",
    "    <tr>\n",
    "    <td>Bob</td><td>24</td><td>California</td>\n",
    "    </tr>\n",
    "    </tbody>\n",
    " <table>\n",
    "\n",
    "A CSV looking like above, when read, will return a dict like this - `{\"Name\": \"Bob\", \"Age\": \"24\", \"Location\": \"California\"}`\n",
    "\n",
    "### Tasks -\n",
    "\n",
    "- Open the accompanying file \"sales_record.csv\" using \"r\" mode inside a with block and check first that it is opened.\n",
    "- Read the first line and use string methods to generate a list of all the column names\n",
    "- start reading the file one by one\n",
    "- When you read each line pass that line to a function along with the list of the headers\n",
    "- The work of the function is to construct a dict out of these two and fill up the key:values. Keep in mind that a missing value should result in a None."
   ]
  },
  {
   "cell_type": "code",
   "execution_count": 32,
   "metadata": {},
   "outputs": [],
   "source": [
    "from itertools import zip_longest"
   ]
  },
  {
   "cell_type": "code",
   "execution_count": 33,
   "metadata": {},
   "outputs": [],
   "source": [
    "def return_dict_from_csv_line(header, line):\n",
    "    # Zip them\n",
    "    zipped_line = zip_longest(header, line, fillvalue=None)\n",
    "    # Use dict comprehension to generate the final dict\n",
    "    ret_dict = {kv[0]: kv[1] for kv in zipped_line}\n",
    "    return ret_dict"
   ]
  },
  {
   "cell_type": "code",
   "execution_count": 34,
   "metadata": {},
   "outputs": [
    {
     "name": "stdout",
     "output_type": "stream",
     "text": [
      "{'Region': 'Central America and the Caribbean', 'Country': 'Antigua and Barbuda ', 'Item Type': 'Baby Food', 'Sales Channel': 'Online', 'Order Priority': 'M', 'Order Date': '12/20/2013', 'Order ID': '957081544', 'Ship Date': '1/11/2014', 'Units Sold': '552', 'Unit Price': '255.28', 'Unit Cost': '159.42', 'Total Revenue': '140914.56', 'Total Cost': '87999.84', 'Total Profit': '52914.72'}\n",
      "{'Region': 'Central America and the Caribbean', 'Country': 'Panama', 'Item Type': 'Snacks', 'Sales Channel': 'Offline', 'Order Priority': 'C', 'Order Date': '7/5/2010', 'Order ID': '301644504', 'Ship Date': '7/26/2010', 'Units Sold': '2167', 'Unit Price': '152.58', 'Unit Cost': '97.44', 'Total Revenue': '330640.86', 'Total Cost': '211152.48', 'Total Profit': '119488.38'}\n",
      "{'Region': 'Europe', 'Country': 'Czech Republic', 'Item Type': 'Beverages', 'Sales Channel': 'Offline', 'Order Priority': 'C', 'Order Date': '9/12/2011', 'Order ID': '478051030', 'Ship Date': '9/29/2011', 'Units Sold': '4778', 'Unit Price': '47.45', 'Unit Cost': '31.79', 'Total Revenue': '226716.10', 'Total Cost': '151892.62', 'Total Profit': '74823.48'}\n",
      "{'Region': 'Asia', 'Country': 'North Korea', 'Item Type': 'Cereal', 'Sales Channel': 'Offline', 'Order Priority': 'L', 'Order Date': '5/13/2010', 'Order ID': '892599952', 'Ship Date': '6/15/2010', 'Units Sold': '9016', 'Unit Price': '205.70', 'Unit Cost': '117.11', 'Total Revenue': '1854591.20', 'Total Cost': '1055863.76', 'Total Profit': '798727.44'}\n",
      "{'Region': 'Asia', 'Country': 'Sri Lanka', 'Item Type': 'Snacks', 'Sales Channel': 'Offline', 'Order Priority': 'C', 'Order Date': '7/20/2015', 'Order ID': '571902596', 'Ship Date': '7/27/2015', 'Units Sold': '7542', 'Unit Price': '152.58', 'Unit Cost': '97.44', 'Total Revenue': '1150758.36', 'Total Cost': '734892.48', 'Total Profit': '415865.88'}\n",
      "{'Region': 'Middle East and North Africa', 'Country': 'Morocco', 'Item Type': 'Personal Care', 'Sales Channel': 'Offline', 'Order Priority': 'L', 'Order Date': '11/8/2010', 'Order ID': '412882792', 'Ship Date': '11/22/2010', 'Units Sold': '48', 'Unit Price': '81.73', 'Unit Cost': '56.67', 'Total Revenue': '3923.04', 'Total Cost': '2720.16', 'Total Profit': '1202.88'}\n",
      "{'Region': 'Australia and Oceania', 'Country': 'Federated States of Micronesia', 'Item Type': 'Clothes', 'Sales Channel': 'Offline', 'Order Priority': 'H', 'Order Date': '3/28/2011', 'Order ID': '932776868', 'Ship Date': '5/10/2011', 'Units Sold': '8258', 'Unit Price': '109.28', 'Unit Cost': '35.84', 'Total Revenue': '902434.24', 'Total Cost': '295966.72', 'Total Profit': '606467.52'}\n",
      "{'Region': 'Europe', 'Country': 'Bosnia and Herzegovina', 'Item Type': 'Clothes', 'Sales Channel': 'Online', 'Order Priority': 'M', 'Order Date': '10/14/2013', 'Order ID': '919133651', 'Ship Date': '11/4/2013', 'Units Sold': '927', 'Unit Price': '109.28', 'Unit Cost': '35.84', 'Total Revenue': '101302.56', 'Total Cost': '33223.68', 'Total Profit': '68078.88'}\n",
      "{'Region': 'Middle East and North Africa', 'Country': 'Afghanistan', 'Item Type': 'Clothes', 'Sales Channel': 'Offline', 'Order Priority': 'M', 'Order Date': '8/27/2016', 'Order ID': '579814469', 'Ship Date': '10/5/2016', 'Units Sold': '8841', 'Unit Price': '109.28', 'Unit Cost': '35.84', 'Total Revenue': '966144.48', 'Total Cost': '316861.44', 'Total Profit': '649283.04'}\n",
      "{'Region': 'Sub-Saharan Africa', 'Country': 'Ethiopia', 'Item Type': 'Baby Food', 'Sales Channel': 'Online', 'Order Priority': 'M', 'Order Date': '4/13/2015', 'Order ID': '192993152', 'Ship Date': '5/7/2015', 'Units Sold': '9817', 'Unit Price': '255.28', 'Unit Cost': '159.42', 'Total Revenue': '2506083.76', 'Total Cost': '1565026.14', 'Total Profit': '941057.62'}\n",
      "{'Region': 'Middle East and North Africa', 'Country': 'Turkey', 'Item Type': 'Office Supplies', 'Sales Channel': 'Offline', 'Order Priority': 'C', 'Order Date': '9/25/2013', 'Order ID': '557156026', 'Ship Date': '10/15/2013', 'Units Sold': '3704', 'Unit Price': '651.21', 'Unit Cost': '524.96', 'Total Revenue': '2412081.84', 'Total Cost': '1944451.84', 'Total Profit': '467630.00'}\n",
      "{'Region': 'Middle East and North Africa', 'Country': 'Oman', 'Item Type': 'Cosmetics', 'Sales Channel': 'Online', 'Order Priority': 'M', 'Order Date': '5/12/2013', 'Order ID': '741101920', 'Ship Date': '5/17/2013', 'Units Sold': '7382', 'Unit Price': '437.20', 'Unit Cost': '263.33', 'Total Revenue': '3227410.40', 'Total Cost': '1943902.06', 'Total Profit': '1283508.34'}\n"
     ]
    }
   ],
   "source": [
    "with open(\"sales_record.csv\", \"r\") as fd:\n",
    "    first_line = fd.readline()\n",
    "    header = first_line.replace(\"\\n\", \"\").split(\",\")\n",
    "    # Loop over the file and print the data for first 10 lines\n",
    "    for i, line in enumerate(fd):\n",
    "        line = line.replace(\"\\n\", \"\").split(\",\")\n",
    "        d = return_dict_from_csv_line(header, line)\n",
    "        print(d)\n",
    "        if i > 10:\n",
    "            break"
   ]
  },
  {
   "cell_type": "code",
   "execution_count": null,
   "metadata": {},
   "outputs": [],
   "source": []
  }
 ],
 "metadata": {
  "kernelspec": {
   "display_name": "Python 3",
   "language": "python",
   "name": "python3"
  },
  "language_info": {
   "codemirror_mode": {
    "name": "ipython",
    "version": 3
   },
   "file_extension": ".py",
   "mimetype": "text/x-python",
   "name": "python",
   "nbconvert_exporter": "python",
   "pygments_lexer": "ipython3",
   "version": "3.8.3"
  }
 },
 "nbformat": 4,
 "nbformat_minor": 4
}
